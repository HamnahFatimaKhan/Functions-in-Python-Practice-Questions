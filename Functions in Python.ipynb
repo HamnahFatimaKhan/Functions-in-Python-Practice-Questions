{
 "cells": [
  {
   "cell_type": "code",
   "execution_count": null,
   "id": "7f0b6ed5-ae62-4790-8e6e-a68aa7c06f14",
   "metadata": {},
   "outputs": [],
   "source": [
    "# Hamnah Fatima Khan\n",
    "# Roll No:FA24_BBD_031"
   ]
  },
  {
   "cell_type": "code",
   "execution_count": 1,
   "id": "8ecc2179-58a4-4240-bfaa-f4a07ba053d4",
   "metadata": {},
   "outputs": [
    {
     "name": "stdout",
     "output_type": "stream",
     "text": [
      "Hello, Hamnah! The current time is 2024-11-28 19:49:54.\n"
     ]
    }
   ],
   "source": [
    "# Q1\n",
    "from datetime import datetime\n",
    "\n",
    "def greet_with_time(name):\n",
    "    current_time = datetime.now().strftime(\"%Y-%m-%d %H:%M:%S\")\n",
    "    print(f\"Hello, {name}! The current time is {current_time}.\")\n",
    "greet_with_time(\"Hamnah\")"
   ]
  },
  {
   "cell_type": "code",
   "execution_count": 3,
   "id": "de57114e-af88-4d2b-ac55-8145dd548a70",
   "metadata": {},
   "outputs": [
    {
     "name": "stdout",
     "output_type": "stream",
     "text": [
      "Average: 43.0\n"
     ]
    }
   ],
   "source": [
    "# Q2\n",
    "def calculate_average(num1, num2, num3):\n",
    "    return (num1 + num2 + num3) / 3\n",
    "average = calculate_average(15, 24, 90)\n",
    "print(\"Average:\", average)"
   ]
  },
  {
   "cell_type": "code",
   "execution_count": 9,
   "id": "880b6683-8b06-43bc-bc05-55ffc88bae66",
   "metadata": {},
   "outputs": [
    {
     "name": "stdout",
     "output_type": "stream",
     "text": [
      "Default Discount Price: 180.0\n",
      "Custom Discount Price: 60.0\n"
     ]
    }
   ],
   "source": [
    "# Q3\n",
    "def calculate_discount(price, discount=10):\n",
    "    discounted_price = price * (1 - discount / 100)\n",
    "    return discounted_price\n",
    "price_with_default = calculate_discount(200)\n",
    "price_with_custom = calculate_discount(100, 40)\n",
    "print(\"Default Discount Price:\", price_with_default)\n",
    "print(\"Custom Discount Price:\", price_with_custom)"
   ]
  },
  {
   "cell_type": "code",
   "execution_count": 5,
   "id": "5b532a67-e69c-4272-8e64-c63e4fbc2f9c",
   "metadata": {},
   "outputs": [
    {
     "name": "stdout",
     "output_type": "stream",
     "text": [
      "Name: Hamnah\n",
      "Age: 18\n",
      "City: Karachi\n"
     ]
    }
   ],
   "source": [
    "# Q4\n",
    "def print_info(*, name, age, city):\n",
    "    print(f\"Name: {name}\")\n",
    "    print(f\"Age: {age}\")\n",
    "    print(f\"City: {city}\")\n",
    "print_info(name=\"Hamnah\", age=18, city=\"Karachi\")"
   ]
  },
  {
   "cell_type": "code",
   "execution_count": 13,
   "id": "4d9341bb-e5b2-4968-a19d-ef0fec034f08",
   "metadata": {},
   "outputs": [
    {
     "name": "stdout",
     "output_type": "stream",
     "text": [
      "The maximum value is 96\n"
     ]
    }
   ],
   "source": [
    "# Q5\n",
    "def find_max(*num):\n",
    "    value=max(num)\n",
    "    return value\n",
    "maximun_value=find_max(44,89,56,96)\n",
    "print(f\"The maximum value is {maximun_value}\")"
   ]
  },
  {
   "cell_type": "code",
   "execution_count": 19,
   "id": "50049ae8-c893-42ee-a21d-8a5299778b9c",
   "metadata": {},
   "outputs": [
    {
     "name": "stdout",
     "output_type": "stream",
     "text": [
      "The factorial of 7 is 5040\n"
     ]
    }
   ],
   "source": [
    "# Q6\n",
    "def factorial(n):\n",
    "    if n == 0 or n == 1:\n",
    "        return 1\n",
    "    return n * factorial(n - 1)\n",
    "\n",
    "print(f\"The factorial of 7 is {factorial(7)}\") "
   ]
  },
  {
   "cell_type": "code",
   "execution_count": 11,
   "id": "2490e166-7043-4eed-8a95-aecb603632f6",
   "metadata": {},
   "outputs": [
    {
     "name": "stdout",
     "output_type": "stream",
     "text": [
      "Doubled List: [2, 4, 6, 8]\n"
     ]
    }
   ],
   "source": [
    "# Q7\n",
    "def apply_function(func, numbers):\n",
    "    return [func(num) for num in numbers]\n",
    "doubled = apply_function(lambda x: x * 2, [1, 2, 3, 4])\n",
    "print(\"Doubled List:\", doubled)"
   ]
  },
  {
   "cell_type": "code",
   "execution_count": 21,
   "id": "3918a6dd-ed17-4070-9597-67528f339abe",
   "metadata": {},
   "outputs": [
    {
     "name": "stdout",
     "output_type": "stream",
     "text": [
      "Square of 12: 144\n"
     ]
    }
   ],
   "source": [
    "# Q8\n",
    "square = lambda x: x ** 2\n",
    "\n",
    "print(\"Square of 12:\", square(12))"
   ]
  },
  {
   "cell_type": "code",
   "execution_count": 23,
   "id": "95002ed0-713b-4cd5-86a8-1a5c3155f034",
   "metadata": {},
   "outputs": [
    {
     "name": "stdout",
     "output_type": "stream",
     "text": [
      "Squared List: [1, 36, 81, 64]\n"
     ]
    }
   ],
   "source": [
    "# Q9\n",
    "def apply_operation(func, numbers):\n",
    "    return [func(num) for num in numbers]\n",
    "squared_list = apply_operation(lambda x: x ** 2, [1, 6, 9, 8])\n",
    "print(\"Squared List:\", squared_list)"
   ]
  },
  {
   "cell_type": "code",
   "execution_count": 22,
   "id": "e302abb3-b9a1-4c53-8aef-b369bf463b87",
   "metadata": {},
   "outputs": [
    {
     "name": "stdout",
     "output_type": "stream",
     "text": [
      "Function finished!\n",
      "Execution time: 1.0023 seconds\n"
     ]
    }
   ],
   "source": [
    "# Q10\n",
    "import time\n",
    "\n",
    "def execution_time_decorator(func):\n",
    "    def wrapper(*args, **kwargs):\n",
    "        start = time.time()\n",
    "        result = func(*args, **kwargs)\n",
    "        end = time.time()\n",
    "        print(f\"Execution time: {end - start:.4f} seconds\")\n",
    "        return result\n",
    "    return wrapper\n",
    "\n",
    "@execution_time_decorator\n",
    "def slow_function():\n",
    "    time.sleep(1)\n",
    "    print(\"Function finished!\")\n",
    "\n",
    "slow_function()\n"
   ]
  }
 ],
 "metadata": {
  "kernelspec": {
   "display_name": "Python 3 (ipykernel)",
   "language": "python",
   "name": "python3"
  },
  "language_info": {
   "codemirror_mode": {
    "name": "ipython",
    "version": 3
   },
   "file_extension": ".py",
   "mimetype": "text/x-python",
   "name": "python",
   "nbconvert_exporter": "python",
   "pygments_lexer": "ipython3",
   "version": "3.12.7"
  }
 },
 "nbformat": 4,
 "nbformat_minor": 5
}
